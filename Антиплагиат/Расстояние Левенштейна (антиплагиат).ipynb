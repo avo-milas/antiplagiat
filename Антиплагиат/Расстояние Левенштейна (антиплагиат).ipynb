{
 "cells": [
  {
   "cell_type": "code",
   "execution_count": 21,
   "metadata": {
    "collapsed": true
   },
   "outputs": [],
   "source": [
    "with open('text1.py', 'r', encoding='utf-8') as f1:\n",
    "    dt1 = f1.readlines()\n",
    "    data1 = []\n",
    "    f = False  # входит в докстринг\n",
    "    for line in dt1:\n",
    "        if f or line.startswith('#'):\n",
    "            if line.find('\"\"\"') != -1:\n",
    "                f = False\n",
    "            continue\n",
    "        elif line.startswith('\"\"\"'):\n",
    "            f = True\n",
    "            continue\n",
    "        else:\n",
    "            data1.extend(line)\n"
   ]
  },
  {
   "cell_type": "code",
   "execution_count": 22,
   "outputs": [],
   "source": [
    "with open('text2.py', 'r', encoding='utf-8') as f2:\n",
    "    dt2 = f2.readlines()\n",
    "    data2 = []\n",
    "    f = False  # входит в докстринг\n",
    "    for line in dt2:\n",
    "        if f or line.startswith('#'):\n",
    "            if line.find('\"\"\"') != -1:\n",
    "                f = False\n",
    "            continue\n",
    "        elif line.startswith('\"\"\"'):\n",
    "            f = True\n",
    "            continue\n",
    "        else:\n",
    "            data2.extend(line)\n"
   ],
   "metadata": {
    "collapsed": false,
    "pycharm": {
     "name": "#%%\n"
    }
   }
  },
  {
   "cell_type": "code",
   "execution_count": 23,
   "outputs": [],
   "source": [
    "def levenstein_distance(dta1, dta2):\n",
    "    n = len(dta1)\n",
    "    m = len(dta2)\n",
    "    dp = [[0] * (m + 1) for i in range(n + 1)]\n",
    "    for i in range(1, n + 1):\n",
    "        dp[i][0] = i\n",
    "    for j in range(1, m + 1):\n",
    "        dp[0][j] = j\n",
    "    for i in range(1, n + 1):\n",
    "        for j in range(1, m + 1):\n",
    "            dp[i][j] = min(dp[i][j - 1] + 1, dp[i - 1][j] + 1)\n",
    "            if dta1[i - 1] == dta2[j - 1]:\n",
    "                dp[i][j] = min(dp[i][j], dp[i - 1][j - 1])\n",
    "            dp[i][j] = min(dp[i][j], dp[i - 1][j - 1] + 1)\n",
    "    return dp[n][m] / max(n, m)\n"
   ],
   "metadata": {
    "collapsed": false,
    "pycharm": {
     "name": "#%%\n"
    }
   }
  },
  {
   "cell_type": "code",
   "execution_count": 25,
   "outputs": [
    {
     "name": "stdout",
     "output_type": "stream",
     "text": [
      "OK\n"
     ]
    }
   ],
   "source": [
    "if levenstein_distance(data1, data2) < 0.5:\n",
    "    print('PLAGIAT')\n",
    "else:\n",
    "    print('OK')\n"
   ],
   "metadata": {
    "collapsed": false,
    "pycharm": {
     "name": "#%%\n"
    }
   }
  },
  {
   "cell_type": "code",
   "execution_count": null,
   "outputs": [],
   "source": [],
   "metadata": {
    "collapsed": false,
    "pycharm": {
     "name": "#%%\n"
    }
   }
  }
 ],
 "metadata": {
  "kernelspec": {
   "display_name": "Python 3",
   "language": "python",
   "name": "python3"
  },
  "language_info": {
   "codemirror_mode": {
    "name": "ipython",
    "version": 2
   },
   "file_extension": ".py",
   "mimetype": "text/x-python",
   "name": "python",
   "nbconvert_exporter": "python",
   "pygments_lexer": "ipython2",
   "version": "2.7.6"
  }
 },
 "nbformat": 4,
 "nbformat_minor": 0
}